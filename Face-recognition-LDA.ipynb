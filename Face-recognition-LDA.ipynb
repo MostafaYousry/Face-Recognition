{
 "cells": [
  {
   "cell_type": "code",
   "execution_count": 1,
   "metadata": {
    "collapsed": false
   },
   "outputs": [],
   "source": [
    "import scipy.ndimage\n",
    "import numpy as np\n",
    "dataMatrix = [0] * 10304\n",
    "for i in range(40):\n",
    "    for j in range(10):\n",
    "        imageMatrix = scipy.ndimage.imread('D:/college/Pattern/Assigmnent/orl_faces/s' + str(i+1)+'/' +\n",
    "                                 str(j+1) +'.pgm',flatten=False, mode=None)\n",
    "        imagePixelsVector = np.asarray(imageMatrix).reshape(-1)\n",
    "        dataMatrix = np.vstack([dataMatrix, imagePixelsVector])"
   ]
  },
  {
   "cell_type": "code",
   "execution_count": 2,
   "metadata": {
    "collapsed": false
   },
   "outputs": [],
   "source": [
    "dataMatrix = dataMatrix[1:,0:]\n",
    "#print(len(dataMatrix[:,0]))"
   ]
  },
  {
   "cell_type": "code",
   "execution_count": 3,
   "metadata": {
    "collapsed": false
   },
   "outputs": [
    {
     "data": {
      "text/plain": [
       "array([[ 48,  49,  45, ...,  47,  46,  46],\n",
       "       [ 60,  60,  62, ...,  32,  34,  34],\n",
       "       [ 39,  44,  53, ...,  29,  26,  29],\n",
       "       ..., \n",
       "       [125, 119, 124, ...,  36,  39,  40],\n",
       "       [119, 120, 120, ...,  89,  94,  85],\n",
       "       [125, 124, 124, ...,  36,  35,  34]])"
      ]
     },
     "execution_count": 3,
     "metadata": {},
     "output_type": "execute_result"
    }
   ],
   "source": [
    "dataMatrix"
   ]
  },
  {
   "cell_type": "code",
   "execution_count": 211,
   "metadata": {
    "collapsed": false
   },
   "outputs": [],
   "source": [
    "labelVector = []\n",
    "labelVector1 = []\n",
    "for i in range(40):\n",
    "    for j in range (10):\n",
    "        labelVector.append(i+1)\n",
    "#print(len(labelVector))"
   ]
  },
  {
   "cell_type": "code",
   "execution_count": 212,
   "metadata": {
    "collapsed": false
   },
   "outputs": [],
   "source": [
    "trainingData = dataMatrix[0]\n",
    "testData = dataMatrix[1]\n",
    "trainingDataLabelVector = []\n",
    "testDataLabelVector = []\n",
    "\n",
    "trainingDataLabelVector.append(labelVector[0])\n",
    "testDataLabelVector.append(labelVector[1])\n",
    "index = 2 \n",
    "while(index < 400):\n",
    "    if(index % 2 == 0):\n",
    "        trainingData = np.vstack([trainingData, dataMatrix[index]])\n",
    "        trainingDataLabelVector.append(labelVector[index])\n",
    "    else:\n",
    "         testData = np.vstack([testData, dataMatrix[index]])\n",
    "         testDataLabelVector.append(labelVector[index])\n",
    "    index += 1"
   ]
  },
  {
   "cell_type": "code",
   "execution_count": 189,
   "metadata": {
    "collapsed": false
   },
   "outputs": [
    {
     "data": {
      "text/plain": [
       "40"
      ]
     },
     "execution_count": 189,
     "metadata": {},
     "output_type": "execute_result"
    }
   ],
   "source": [
    "#trainingData\n",
    "labelVector1\n",
    "#testData"
   ]
  },
  {
   "cell_type": "markdown",
   "metadata": {
    "collapsed": true
   },
   "source": [
    "# LDA Algorithms for Face Recognition "
   ]
  },
  {
   "cell_type": "code",
   "execution_count": 6,
   "metadata": {
    "collapsed": false,
    "scrolled": true
   },
   "outputs": [],
   "source": [
    "#calculate overall mean\n",
    "meanOverall = trainingData.mean(axis=0)\n",
    "#print(meanOverall)\n",
    "#calculate mean for each sample.\n",
    "meanSampleClass = []\n",
    "for i in range(40):\n",
    " meanSampleClass.append(trainingData[5*i:5*(i+1),:].mean(axis=0))"
   ]
  },
  {
   "cell_type": "code",
   "execution_count": 7,
   "metadata": {
    "collapsed": false
   },
   "outputs": [],
   "source": [
    "#calculate sb\n",
    "SB_Matrix = np.zeros((10304,10304),dtype=float)\n",
    "for i in range(40):\n",
    " SB_Matrix+=(np.outer(np.subtract(meanSampleClass[i],meanOverall),(np.transpose(np.subtract(meanSampleClass[i],meanOverall)))))\n",
    "\n",
    "SB_Matrix = 5 * SB_Matrix"
   ]
  },
  {
   "cell_type": "code",
   "execution_count": 8,
   "metadata": {
    "collapsed": false
   },
   "outputs": [],
   "source": [
    "#calculate CenterDataMatrix\n",
    "CenterDataMatrix = []\n",
    "for i in range(40):\n",
    "     CenterDataMatrix.append(trainingData[5*i:5*(i+1),:] - meanSampleClass[i]) "
   ]
  },
  {
   "cell_type": "code",
   "execution_count": 9,
   "metadata": {
    "collapsed": false
   },
   "outputs": [],
   "source": [
    "#calculate Scatter Matrix\n",
    "Scatter_Matrix = [0]*10304\n",
    "for i in range(40):\n",
    "    Scatter_Matrix += np.matmul(np.transpose(CenterDataMatrix[i]), CenterDataMatrix[i])"
   ]
  },
  {
   "cell_type": "code",
   "execution_count": 10,
   "metadata": {
    "collapsed": true
   },
   "outputs": [],
   "source": [
    "#calculate inverse Scatter Matrix\n",
    "Scatter_Matrix_Inverse = np.linalg.pinv(Scatter_Matrix)"
   ]
  },
  {
   "cell_type": "code",
   "execution_count": 11,
   "metadata": {
    "collapsed": true
   },
   "outputs": [],
   "source": [
    "#calculate inverse Scatter Matrix . SB_Matrix\n",
    "SInverseB = np.matmul(Scatter_Matrix_Inverse, SB_Matrix)"
   ]
  },
  {
   "cell_type": "code",
   "execution_count": 12,
   "metadata": {
    "collapsed": false
   },
   "outputs": [],
   "source": [
    "#calculate dominat\n",
    "eigenValue, eigenVector = np.linalg.eig(SInverseB)"
   ]
  },
  {
   "cell_type": "code",
   "execution_count": 13,
   "metadata": {
    "collapsed": false
   },
   "outputs": [],
   "source": [
    "#Arrange(sort) eigenValue,eigenVector\n",
    "idx = eigenValue.argsort()[::-1]   \n",
    "eigenValue = eigenValue[idx]\n",
    "eigenVector = eigenVector[:,idx]\n",
    "eigenVector = np.real(eigenVector)"
   ]
  },
  {
   "cell_type": "code",
   "execution_count": 14,
   "metadata": {
    "collapsed": true
   },
   "outputs": [],
   "source": [
    "projection = eigenVector[:,:40]"
   ]
  },
  {
   "cell_type": "code",
   "execution_count": 15,
   "metadata": {
    "collapsed": true
   },
   "outputs": [],
   "source": [
    "training_projection = np.matmul(trainingData, projection)"
   ]
  },
  {
   "cell_type": "code",
   "execution_count": 16,
   "metadata": {
    "collapsed": true
   },
   "outputs": [],
   "source": [
    "testing_projection  = np.matmul(testData, projection)"
   ]
  },
  {
   "cell_type": "code",
   "execution_count": 18,
   "metadata": {
    "collapsed": true
   },
   "outputs": [],
   "source": [
    "#import the KNeighborsClassifier class from sklearn\n",
    "from sklearn.neighbors import KNeighborsClassifier\n",
    "#import metrics model to check the accuracy \n",
    "from sklearn import metrics\n",
    "# utility method to apply the knn classifier and return the score resulted.\n",
    "def knn(trainingSet,trainingLabel,testSet,testLabel,k):\n",
    "    knn = KNeighborsClassifier(n_neighbors=k)\n",
    "    knn.fit(trainingSet,trainingLabel)\n",
    "    pred=knn.predict(testSet)\n",
    "    score  = metrics.accuracy_score(testLabel,pred)\n",
    "    return score"
   ]
  },
  {
   "cell_type": "code",
   "execution_count": 44,
   "metadata": {
    "collapsed": false
   },
   "outputs": [],
   "source": [
    "K_NN = [1,3,5,7]\n",
    "score = []\n",
    "for k in K_NN:\n",
    "    r = knn(training_projection, trainingDataLabelVector, testing_projection, testDataLabelVector,k)\n",
    "    score.append(r) "
   ]
  },
  {
   "cell_type": "code",
   "execution_count": 250,
   "metadata": {
    "collapsed": false
   },
   "outputs": [],
   "source": [
    "score\n",
    "scr = np.multiply(100,score)"
   ]
  },
  {
   "cell_type": "code",
   "execution_count": 67,
   "metadata": {
    "collapsed": true
   },
   "outputs": [],
   "source": [
    "import matplotlib.pyplot as plt\n",
    "import matplotlib.pyplot as plt; plt.rcdefaults()\n",
    "from matplotlib.pyplot import figure"
   ]
  },
  {
   "cell_type": "code",
   "execution_count": 273,
   "metadata": {
    "collapsed": false
   },
   "outputs": [
    {
     "data": {
      "image/png": "[encoded data removed]",
      "text/plain": [
       "<matplotlib.figure.Figure at 0x155f5ef0>"
      ]
     },
     "metadata": {},
     "output_type": "display_data"
    },
    {
     "data": {
      "image/png": "[encoded data removed]",
      "text/plain": [
       "<matplotlib.figure.Figure at 0x14da5ba8>"
      ]
     },
     "metadata": {},
     "output_type": "display_data"
    }
   ],
   "source": [
    "#plot as point\n",
    "plt.scatter(K_NN,scr)\n",
    "plt.title(\"Classifier Tuning\")\n",
    "plt.xlabel(\"K value\")\n",
    "plt.ylabel(\"Accuracy \")\n",
    "\n",
    "plt.show()\n",
    "#plot as barchar\n",
    "y_pos = np.arange(len(score))\n",
    "bar = plt.bar(y_pos, scr, align='center', alpha=0.4,color='g',label='Accuracy for each K value',width= 0.3)\n",
    "plt.xticks(y_pos, K_NN)\n",
    "plt.title(\"Classifier Tuning\")\n",
    "plt.xlabel(\"K value\")\n",
    "plt.ylabel(\"Accuracy\")\n",
    "\n",
    "for rect in bar:\n",
    "    height = rect.get_height()\n",
    "    plt.text(rect.get_x() + rect.get_width()/2.0, height, '%d' % int(height)+'%', ha='center', va='bottom')\n",
    "plt.ylim(0, 100)\n",
    "plt.legend()\n",
    "plt.show()"
   ]
  },
  {
   "cell_type": "markdown",
   "metadata": {},
   "source": [
    "# LDA for Spliting matrix 70  30"
   ]
  },
  {
   "cell_type": "code",
   "execution_count": 229,
   "metadata": {
    "collapsed": false
   },
   "outputs": [],
   "source": [
    "    training_data = [0] * len(dataMatrix[0])\n",
    "    training_data_labels = []\n",
    "    test_data = [0] * len(dataMatrix[0])\n",
    "    test_data_labels = []\n",
    "    for i in range(40):\n",
    "        for j in range(7):\n",
    "            training_data = np.vstack([training_data, dataMatrix[i*10 + j]])\n",
    "            training_data_labels.append(labelVector[i*10 + j])\n",
    "        for k in range(3):\n",
    "            test_data = np.vstack([test_data, dataMatrix[i*10 + 7 + k]])\n",
    "            test_data_labels.append(labelVector[i*10 + 7 + k])\n",
    "\n",
    "    training_data = training_data[1:,0:]\n",
    "    test_data = test_data[1:,0:]"
   ]
  },
  {
   "cell_type": "code",
   "execution_count": 233,
   "metadata": {
    "collapsed": false
   },
   "outputs": [
    {
     "name": "stdout",
     "output_type": "stream",
     "text": [
      "[ 35  36  37 ..., 144 147 143]\n",
      "[ 35  36  37 ..., 144 147 143]\n"
     ]
    }
   ],
   "source": [
    "print(training_data[7])\n",
    "print(dataMatrix[10])"
   ]
  },
  {
   "cell_type": "code",
   "execution_count": 234,
   "metadata": {
    "collapsed": false
   },
   "outputs": [],
   "source": [
    "#calculate overall mean\n",
    "meanOverall = training_data.mean(axis=0)\n",
    "#print(meanOverall)\n",
    "#calculate mean for each sample.\n",
    "meanSampleClass = []\n",
    "for i in range(40):\n",
    " meanSampleClass.append(training_data[7*i:7*(i+1),:].mean(axis=0))"
   ]
  },
  {
   "cell_type": "code",
   "execution_count": 235,
   "metadata": {
    "collapsed": false
   },
   "outputs": [],
   "source": [
    "#calculate sb\n",
    "SB_Matrix = np.zeros((10304,10304),dtype=float)\n",
    "for i in range(40):\n",
    " SB_Matrix+=(np.outer(np.subtract(meanSampleClass[i],meanOverall),(np.transpose(np.subtract(meanSampleClass[i],meanOverall)))))\n",
    "\n",
    "SB_Matrix = 7 * SB_Matrix"
   ]
  },
  {
   "cell_type": "code",
   "execution_count": 236,
   "metadata": {
    "collapsed": true
   },
   "outputs": [],
   "source": [
    "#calculate CenterDataMatrix\n",
    "CenterDataMatrix = []\n",
    "for i in range(40):\n",
    "     CenterDataMatrix.append(training_data[7*i:7*(i+1),:] - meanSampleClass[i])"
   ]
  },
  {
   "cell_type": "code",
   "execution_count": 237,
   "metadata": {
    "collapsed": true
   },
   "outputs": [],
   "source": [
    "#calculate Scatter Matrix\n",
    "Scatter_Matrix = [0]*10304\n",
    "for i in range(40):\n",
    "    Scatter_Matrix += np.matmul(np.transpose(CenterDataMatrix[i]), CenterDataMatrix[i])"
   ]
  },
  {
   "cell_type": "code",
   "execution_count": 238,
   "metadata": {
    "collapsed": true
   },
   "outputs": [],
   "source": [
    "#calculate inverse Scatter Matrix\n",
    "Scatter_Matrix_Inverse = np.linalg.pinv(Scatter_Matrix)"
   ]
  },
  {
   "cell_type": "code",
   "execution_count": 239,
   "metadata": {
    "collapsed": true
   },
   "outputs": [],
   "source": [
    "#calculate inverse Scatter Matrix . SB_Matrix\n",
    "SInverseB = np.matmul(Scatter_Matrix_Inverse, SB_Matrix)"
   ]
  },
  {
   "cell_type": "code",
   "execution_count": 240,
   "metadata": {
    "collapsed": true
   },
   "outputs": [],
   "source": [
    "#calculate dominat\n",
    "eigenValue, eigenVector = np.linalg.eig(SInverseB)"
   ]
  },
  {
   "cell_type": "code",
   "execution_count": 241,
   "metadata": {
    "collapsed": true
   },
   "outputs": [],
   "source": [
    "#Arrange(sort) eigenValue,eigenVector\n",
    "idx = eigenValue.argsort()[::-1]   \n",
    "eigenValue = eigenValue[idx]\n",
    "eigenVector = eigenVector[:,idx]\n",
    "eigenVector = np.real(eigenVector)"
   ]
  },
  {
   "cell_type": "code",
   "execution_count": 242,
   "metadata": {
    "collapsed": true
   },
   "outputs": [],
   "source": [
    "projection = eigenVector[:,:40]"
   ]
  },
  {
   "cell_type": "code",
   "execution_count": 243,
   "metadata": {
    "collapsed": true
   },
   "outputs": [],
   "source": [
    "training_projection = np.matmul(training_data, projection)"
   ]
  },
  {
   "cell_type": "code",
   "execution_count": 244,
   "metadata": {
    "collapsed": true
   },
   "outputs": [],
   "source": [
    "testing_projection  = np.matmul(test_data, projection)"
   ]
  },
  {
   "cell_type": "code",
   "execution_count": 246,
   "metadata": {
    "collapsed": true
   },
   "outputs": [],
   "source": [
    "#import the KNeighborsClassifier class from sklearn\n",
    "from sklearn.neighbors import KNeighborsClassifier\n",
    "#import metrics model to check the accuracy \n",
    "from sklearn import metrics\n",
    "# utility method to apply the knn classifier and return the score resulted.\n",
    "def knn(trainingSet,trainingLabel,testSet,testLabel,k):\n",
    "    knn = KNeighborsClassifier(n_neighbors=k)\n",
    "    knn.fit(trainingSet,trainingLabel)\n",
    "    pred=knn.predict(testSet)\n",
    "    score  = metrics.accuracy_score(testLabel,pred)\n",
    "    return score"
   ]
  },
  {
   "cell_type": "code",
   "execution_count": 247,
   "metadata": {
    "collapsed": true
   },
   "outputs": [],
   "source": [
    "K_NN = [1,3,5,7]\n",
    "score1 = []\n",
    "for k in K_NN:\n",
    "    rr = knn(training_projection, training_data_labels, testing_projection, test_data_labels,k)\n",
    "    score1.append(rr) \n"
   ]
  },
  {
   "cell_type": "code",
   "execution_count": 249,
   "metadata": {
    "collapsed": true
   },
   "outputs": [],
   "source": [
    "score1\n",
    "scr1 = np.multiply(100,score1)"
   ]
  },
  {
   "cell_type": "code",
   "execution_count": 270,
   "metadata": {
    "collapsed": false
   },
   "outputs": [
    {
     "data": {
      "image/png": "[encoded data removed]",
      "text/plain": [
       "<matplotlib.figure.Figure at 0x152bb7f0>"
      ]
     },
     "metadata": {},
     "output_type": "display_data"
    },
    {
     "data": {
      "image/png": "[encoded data removed]",
      "text/plain": [
       "<matplotlib.figure.Figure at 0x15b8e5f8>"
      ]
     },
     "metadata": {},
     "output_type": "display_data"
    }
   ],
   "source": [
    "#plot as point\n",
    "plt.scatter(K_NN,scr1)\n",
    "plt.title(\"Classifier Tuning\")\n",
    "plt.xlabel(\"K value\")\n",
    "plt.ylabel(\"Accuracy \")\n",
    "plt.ylim(0, 100)\n",
    "plt.show()\n",
    "#plot as barchar\n",
    "y_pos = np.arange(len(score1))\n",
    "bar = plt.bar(y_pos, scr1, align='center', alpha=0.4,color='g',label='Accuracy for each K value',width= 0.3)\n",
    "plt.xticks(y_pos, K_NN)\n",
    "plt.title(\"Classifier Tuning\")\n",
    "plt.xlabel(\"K value\")\n",
    "plt.ylabel(\"Accuracy\")\n",
    "\n",
    "for rect in bar:\n",
    "    height = rect.get_height()\n",
    "    plt.text(rect.get_x() + rect.get_width()/2.0, height, '%d' % int(height)+'%', ha='center', va='bottom')\n",
    "plt.ylim(0, 100)\n",
    "plt.legend()\n",
    "plt.show()"
   ]
  },
  {
   "cell_type": "code",
   "execution_count": 267,
   "metadata": {
    "collapsed": false
   },
   "outputs": [
    {
     "data": {
      "image/png": "[encoded data removed]",
      "text/plain": [
       "<matplotlib.figure.Figure at 0x157b1b70>"
      ]
     },
     "metadata": {},
     "output_type": "display_data"
    }
   ],
   "source": [
    "#plot as barchar\n",
    "\n",
    "\n",
    "y_pos = np.arange(len(score1))\n",
    "bar1 = plt.bar(y_pos, scr, align='center', alpha=0.4,color='r',label='Accuracy for each K value for 50%',width= 0.3)\n",
    "bar2 = plt.bar(y_pos+0.3, scr1, align='center', alpha=0.4,color='g',label='Accuracy for each K value 70% 30%',width= 0.3)\n",
    "\n",
    "\n",
    "\n",
    "plt.xticks(y_pos+.15, K_NN)\n",
    "plt.title(\"Classifier Tuning\")\n",
    "plt.xlabel(\"K value\")\n",
    "plt.ylabel(\"Accuracy\")\n",
    "\n",
    "for rect in bar1+bar2:\n",
    "    height = rect.get_height()\n",
    "    plt.text(rect.get_x() + rect.get_width()/2.0, height, '%d' % int(height)+'%', ha='center', va='bottom')\n",
    "plt.ylim(0, 100)\n",
    "plt.legend()\n",
    "plt.tight_layout()\n",
    "\n",
    "plt.show()"
   ]
  },
  {
   "cell_type": "code",
   "execution_count": null,
   "metadata": {
    "collapsed": true
   },
   "outputs": [],
   "source": []
  }
 ],
 "metadata": {
  "kernelspec": {
   "display_name": "Python 2",
   "language": "python",
   "name": "python2"
  },
  "language_info": {
   "codemirror_mode": {
    "name": "ipython",
    "version": 2
   },
   "file_extension": ".py",
   "mimetype": "text/x-python",
   "name": "python",
   "nbconvert_exporter": "python",
   "pygments_lexer": "ipython2",
   "version": "2.7.13"
  }
 },
 "nbformat": 4,
 "nbformat_minor": 0
}
